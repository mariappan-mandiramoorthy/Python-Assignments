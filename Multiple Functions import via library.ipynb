{
 "cells": [
  {
   "cell_type": "code",
   "execution_count": 21,
   "id": "e6e90514",
   "metadata": {},
   "outputs": [],
   "source": [
    "from multipleFunctions import multipleFunctions"
   ]
  },
  {
   "cell_type": "code",
   "execution_count": 22,
   "id": "0f22c6f7",
   "metadata": {},
   "outputs": [
    {
     "data": {
      "text/plain": [
       "15"
      ]
     },
     "execution_count": 22,
     "metadata": {},
     "output_type": "execute_result"
    }
   ],
   "source": [
    "multipleFunctions.add(10,5)"
   ]
  },
  {
   "cell_type": "code",
   "execution_count": 23,
   "id": "a48f68cb",
   "metadata": {},
   "outputs": [
    {
     "data": {
      "text/plain": [
       "5"
      ]
     },
     "execution_count": 23,
     "metadata": {},
     "output_type": "execute_result"
    }
   ],
   "source": [
    "multipleFunctions.sub(10,5)"
   ]
  },
  {
   "cell_type": "code",
   "execution_count": 24,
   "id": "d3960e6b",
   "metadata": {},
   "outputs": [
    {
     "data": {
      "text/plain": [
       "50"
      ]
     },
     "execution_count": 24,
     "metadata": {},
     "output_type": "execute_result"
    }
   ],
   "source": [
    "multipleFunctions.multiplication(10,5)"
   ]
  },
  {
   "cell_type": "code",
   "execution_count": 25,
   "id": "fe84af0b",
   "metadata": {},
   "outputs": [
    {
     "data": {
      "text/plain": [
       "2.0"
      ]
     },
     "execution_count": 25,
     "metadata": {},
     "output_type": "execute_result"
    }
   ],
   "source": [
    "multipleFunctions.division(10,5)"
   ]
  },
  {
   "cell_type": "code",
   "execution_count": 26,
   "id": "5a32339b",
   "metadata": {},
   "outputs": [
    {
     "name": "stdout",
     "output_type": "stream",
     "text": [
      "The value is an odd number\n"
     ]
    }
   ],
   "source": [
    "multipleFunctions.OddEven(57)"
   ]
  },
  {
   "cell_type": "code",
   "execution_count": 28,
   "id": "31a53202",
   "metadata": {},
   "outputs": [
    {
     "name": "stdout",
     "output_type": "stream",
     "text": [
      "Machine Learning\n",
      " Neural Networks\n",
      " Vision\n",
      " Robotics\n",
      " Speech Processing\n",
      " Natural Language Processing\n",
      "\n",
      "The subfields in AI are:\n"
     ]
    }
   ],
   "source": [
    "multipleFunctions.Subfields()"
   ]
  },
  {
   "cell_type": "code",
   "execution_count": 27,
   "id": "0a0bcf28",
   "metadata": {},
   "outputs": [
    {
     "name": "stdout",
     "output_type": "stream",
     "text": [
      "Your Gender: Male\n",
      "Your age: 18\n",
      "Not Eligible\n"
     ]
    }
   ],
   "source": [
    "multipleFunctions.Gender_Eligibility()"
   ]
  },
  {
   "cell_type": "code",
   "execution_count": 29,
   "id": "29541c76",
   "metadata": {},
   "outputs": [
    {
     "name": "stdout",
     "output_type": "stream",
     "text": [
      "Subject1=98\n",
      "Subject2=47\n",
      "Subject3=58\n",
      "Subject4=66\n",
      "Subject5=21\n",
      "Total : 290 \n",
      " Percentage : 58.0\n"
     ]
    }
   ],
   "source": [
    "multipleFunctions.percentage()"
   ]
  },
  {
   "cell_type": "code",
   "execution_count": 30,
   "id": "da4fe779",
   "metadata": {},
   "outputs": [
    {
     "name": "stdout",
     "output_type": "stream",
     "text": [
      "Height: 10\n",
      "Breadth: 20\n",
      "Area of a triangle:  100.0\n",
      "Height 1: 25\n",
      "Height 2: 65\n",
      "Breadth: 45\n",
      "Perimeter of a triangle: 135\n"
     ]
    }
   ],
   "source": [
    "multipleFunctions.triangle()"
   ]
  }
 ],
 "metadata": {
  "kernelspec": {
   "display_name": "Python 3 (ipykernel)",
   "language": "python",
   "name": "python3"
  },
  "language_info": {
   "codemirror_mode": {
    "name": "ipython",
    "version": 3
   },
   "file_extension": ".py",
   "mimetype": "text/x-python",
   "name": "python",
   "nbconvert_exporter": "python",
   "pygments_lexer": "ipython3",
   "version": "3.10.9"
  }
 },
 "nbformat": 4,
 "nbformat_minor": 5
}
