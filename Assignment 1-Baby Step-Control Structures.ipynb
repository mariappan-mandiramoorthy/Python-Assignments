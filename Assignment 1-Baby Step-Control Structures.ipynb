{
 "cells": [
  {
   "cell_type": "code",
   "execution_count": 1,
   "id": "4a454e92",
   "metadata": {},
   "outputs": [
    {
     "name": "stdout",
     "output_type": "stream",
     "text": [
      "Welcome to Assignment-1\n"
     ]
    }
   ],
   "source": [
    "print(\"Welcome to Assignment-1\")"
   ]
  },
  {
   "cell_type": "code",
   "execution_count": 2,
   "id": "1b79dc8d",
   "metadata": {},
   "outputs": [
    {
     "name": "stdout",
     "output_type": "stream",
     "text": [
      "Num1 = 10 \n",
      " Num2 =  30 \n",
      " Add = 40\n"
     ]
    }
   ],
   "source": [
    "Num1=10\n",
    "Num2=30\n",
    "Add = Num1 + Num2\n",
    "print(\"Num1 =\", Num1, \"\\n\",\"Num2 = \",Num2,\"\\n\", \"Add =\",Add)"
   ]
  },
  {
   "cell_type": "code",
   "execution_count": 15,
   "id": "0d4dba64",
   "metadata": {},
   "outputs": [
    {
     "name": "stdout",
     "output_type": "stream",
     "text": [
      "Enter the BMI index\n",
      "34\n",
      "You are very overweight\n"
     ]
    }
   ],
   "source": [
    "Weight = int(input(\"Enter the BMI index\" \"\\n\")) \n",
    "if(Weight<18.5):\n",
    "    print(\"You are underwight\")\n",
    "elif(18.5<Weight<24.9):\n",
    "    print(\"You are normal weight\")\n",
    "else:\n",
    "    print(\"You are very overweight\")"
   ]
  }
 ],
 "metadata": {
  "kernelspec": {
   "display_name": "Python 3 (ipykernel)",
   "language": "python",
   "name": "python3"
  },
  "language_info": {
   "codemirror_mode": {
    "name": "ipython",
    "version": 3
   },
   "file_extension": ".py",
   "mimetype": "text/x-python",
   "name": "python",
   "nbconvert_exporter": "python",
   "pygments_lexer": "ipython3",
   "version": "3.10.9"
  }
 },
 "nbformat": 4,
 "nbformat_minor": 5
}
