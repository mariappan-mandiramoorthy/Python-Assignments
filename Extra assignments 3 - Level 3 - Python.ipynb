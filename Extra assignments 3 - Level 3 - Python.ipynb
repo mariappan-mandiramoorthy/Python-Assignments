{
 "cells": [
  {
   "cell_type": "code",
   "execution_count": 1,
   "id": "6e907b3f",
   "metadata": {},
   "outputs": [
    {
     "name": "stdout",
     "output_type": "stream",
     "text": [
      "Enter the value: 10\n",
      "Correct\n"
     ]
    }
   ],
   "source": [
    "i = int(input(\"Enter the value: \"))\n",
    "if(i==10):\n",
    "    print(\"Correct\")"
   ]
  },
  {
   "cell_type": "code",
   "execution_count": 3,
   "id": "7f7d4f6f",
   "metadata": {},
   "outputs": [
    {
     "name": "stdout",
     "output_type": "stream",
     "text": [
      "Enter the password: HOPE@123\n",
      "Your password is correct\n"
     ]
    }
   ],
   "source": [
    "pwd = input(\"Enter the password: \")\n",
    "if(pwd==\"HOPE@123\"):\n",
    "    print(\"Your password is correct\")\n",
    "else:\n",
    "    print(\"Your password is incorrect\")"
   ]
  },
  {
   "cell_type": "code",
   "execution_count": 12,
   "id": "d65ca7c2",
   "metadata": {},
   "outputs": [
    {
     "name": "stdout",
     "output_type": "stream",
     "text": [
      "Enter the age: 45\n",
      "Citizen\n"
     ]
    }
   ],
   "source": [
    "age = int(input(\"Enter the age: \"))\n",
    "if(age<18):\n",
    "    print(\"Child\")\n",
    "elif(18<age<=20):\n",
    "    print(\"Adult\")\n",
    "elif(21<=age<59):\n",
    "    print(\"Citizen\")\n",
    "else:\n",
    "    print(\"Senior Citizen\")"
   ]
  },
  {
   "cell_type": "code",
   "execution_count": 16,
   "id": "fc910f27",
   "metadata": {},
   "outputs": [
    {
     "name": "stdout",
     "output_type": "stream",
     "text": [
      "Enter any number:85\n",
      "The number is divisible by 5\n"
     ]
    }
   ],
   "source": [
    "div = int(input(\"Enter any number:\"))\n",
    "if(div%5==0):\n",
    "    print(\"The number is divisible by 5\")\n",
    "else:\n",
    "    print(\"The number is not divisible by 5\")"
   ]
  },
  {
   "cell_type": "code",
   "execution_count": 23,
   "id": "c30f133c",
   "metadata": {},
   "outputs": [
    {
     "name": "stdout",
     "output_type": "stream",
     "text": [
      "Enter the number1\n",
      "Positive number\n"
     ]
    }
   ],
   "source": [
    "numb = int(input(\"Enter the number\"))\n",
    "if(numb>=0):\n",
    "    print(\"Positive number\")\n",
    "else:\n",
    "    print(\"Negative number\")"
   ]
  }
 ],
 "metadata": {
  "kernelspec": {
   "display_name": "Python 3 (ipykernel)",
   "language": "python",
   "name": "python3"
  },
  "language_info": {
   "codemirror_mode": {
    "name": "ipython",
    "version": 3
   },
   "file_extension": ".py",
   "mimetype": "text/x-python",
   "name": "python",
   "nbconvert_exporter": "python",
   "pygments_lexer": "ipython3",
   "version": "3.10.9"
  }
 },
 "nbformat": 4,
 "nbformat_minor": 5
}
