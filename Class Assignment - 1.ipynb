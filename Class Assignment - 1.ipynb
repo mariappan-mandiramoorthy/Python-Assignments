{
 "cells": [
  {
   "cell_type": "code",
   "execution_count": 41,
   "id": "8e614453",
   "metadata": {},
   "outputs": [],
   "source": [
    "class SubfieldsinAI():\n",
    "    def Subfields():\n",
    "        print(\"The subfields in AI are:\")\n",
    "        print(\"Machine Learning\"\"\\n\",\"Neural Networks\"\"\\n\",\"Vision\"\"\\n\",\"Robotics\"\"\\n\",\"Speech Processing\"\"\\n\",\"Natural Language Processing\"\"\\n\")"
   ]
  },
  {
   "cell_type": "code",
   "execution_count": 42,
   "id": "e9075518",
   "metadata": {},
   "outputs": [
    {
     "name": "stdout",
     "output_type": "stream",
     "text": [
      "The subfields in AI are:\n",
      "Machine Learning\n",
      " Neural Networks\n",
      " Vision\n",
      " Robotics\n",
      " Speech Processing\n",
      " Natural Language Processing\n",
      "\n"
     ]
    }
   ],
   "source": [
    "SubfieldsinAI.Subfields()"
   ]
  },
  {
   "cell_type": "code",
   "execution_count": 48,
   "id": "73669f5e",
   "metadata": {},
   "outputs": [],
   "source": [
    "class OddEven():\n",
    "    def OddEven():\n",
    "        num = int(input(\"Enter a number:\"))\n",
    "        if(num%2!=0):\n",
    "            print(num,\"is odd number\")\n",
    "        else:\n",
    "            print(num,\"is even number\")"
   ]
  },
  {
   "cell_type": "code",
   "execution_count": 49,
   "id": "717aac4e",
   "metadata": {},
   "outputs": [
    {
     "name": "stdout",
     "output_type": "stream",
     "text": [
      "Enter a number:52452\n",
      "52452 is even number\n"
     ]
    }
   ],
   "source": [
    "OddEven.OddEven()"
   ]
  },
  {
   "cell_type": "code",
   "execution_count": 55,
   "id": "3df5095e",
   "metadata": {},
   "outputs": [],
   "source": [
    "class EligibilityForMarriage():\n",
    "    def Eligible():\n",
    "        Gen = input(\"Your Gender: \")\n",
    "        Age = int(input(\"Your age: \"))\n",
    "        if(Gen==\"Male\"):\n",
    "            if(Age>=18):\n",
    "                print(\"Not Eligible\")\n",
    "        else:\n",
    "            print(\"Eligible\")"
   ]
  },
  {
   "cell_type": "code",
   "execution_count": 56,
   "id": "109ad625",
   "metadata": {},
   "outputs": [
    {
     "name": "stdout",
     "output_type": "stream",
     "text": [
      "Your Gender: Male\n",
      "Your age: 18\n",
      "Not Eligible\n"
     ]
    }
   ],
   "source": [
    "EligibilityForMarriage.Eligible()"
   ]
  },
  {
   "cell_type": "code",
   "execution_count": 57,
   "id": "c3db6d80",
   "metadata": {},
   "outputs": [],
   "source": [
    "class FindPercent():\n",
    "       def percentage():\n",
    "        s1 = int(input(\"Subject1=\"))\n",
    "        s2 =  int(input(\"Subject2=\"))\n",
    "        s3 =  int(input(\"Subject3=\"))\n",
    "        s4 =  int(input(\"Subject4=\"))\n",
    "        s5 =  int(input(\"Subject5=\"))\n",
    "        total = s1+s2+s3+s4+s5\n",
    "        percent = total/5\n",
    "        print(\"Total :\",total,\"\\n\",\"Percentage :\",percent)"
   ]
  },
  {
   "cell_type": "code",
   "execution_count": 59,
   "id": "efb34252",
   "metadata": {},
   "outputs": [
    {
     "name": "stdout",
     "output_type": "stream",
     "text": [
      "Subject1=98\n",
      "Subject2=87\n",
      "Subject3=95\n",
      "Subject4=95\n",
      "Subject5=93\n",
      "Total : 468 \n",
      " Percentage : 93.6\n"
     ]
    }
   ],
   "source": [
    "FindPercent.percentage()"
   ]
  },
  {
   "cell_type": "code",
   "execution_count": 63,
   "id": "9191c895",
   "metadata": {},
   "outputs": [],
   "source": [
    "class triangle():\n",
    "    def triangle():\n",
    "        Height = int(input(\"Height: \"))\n",
    "        Breadth = int(input(\"Breadth: \"))\n",
    "        Area_Formula = (Height * Breadth)/2\n",
    "        print(\"Area of a triangle: \", Area_Formula)\n",
    "        Height_1 = int(input(\"Height 1: \"))\n",
    "        Height_2 = int(input(\"Height 2: \"))\n",
    "        Breadth_1 = int(input(\"Breadth: \"))\n",
    "        Perimeter_Formula = Height_1+Height_2+Breadth_1\n",
    "        print(\"Perimeter of a triangle:\", Perimeter_Formula)"
   ]
  },
  {
   "cell_type": "code",
   "execution_count": 64,
   "id": "ebb66f71",
   "metadata": {},
   "outputs": [
    {
     "name": "stdout",
     "output_type": "stream",
     "text": [
      "Height: 32\n",
      "Breadth: 34\n",
      "Area of a triangle:  544.0\n",
      "Height 1: 2\n",
      "Height 2: 4\n",
      "Breadth: 4\n",
      "Perimeter of a triangle: 10\n"
     ]
    }
   ],
   "source": [
    "triangle.triangle()"
   ]
  }
 ],
 "metadata": {
  "kernelspec": {
   "display_name": "Python 3 (ipykernel)",
   "language": "python",
   "name": "python3"
  },
  "language_info": {
   "codemirror_mode": {
    "name": "ipython",
    "version": 3
   },
   "file_extension": ".py",
   "mimetype": "text/x-python",
   "name": "python",
   "nbconvert_exporter": "python",
   "pygments_lexer": "ipython3",
   "version": "3.10.9"
  }
 },
 "nbformat": 4,
 "nbformat_minor": 5
}
