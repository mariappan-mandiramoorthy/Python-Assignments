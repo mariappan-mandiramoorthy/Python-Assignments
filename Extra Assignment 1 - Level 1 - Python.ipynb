{
 "cells": [
  {
   "cell_type": "code",
   "execution_count": 1,
   "id": "e7eae1aa",
   "metadata": {},
   "outputs": [
    {
     "name": "stdout",
     "output_type": "stream",
     "text": [
      "Hope AI\n"
     ]
    }
   ],
   "source": [
    "print(\"Hope AI\")"
   ]
  },
  {
   "cell_type": "code",
   "execution_count": null,
   "id": "598cd8a3",
   "metadata": {},
   "outputs": [],
   "source": [
    "name = input(\"Enter the institute name:\" \"\\n\")"
   ]
  },
  {
   "cell_type": "code",
   "execution_count": 1,
   "id": "bc166b64",
   "metadata": {},
   "outputs": [
    {
     "name": "stdout",
     "output_type": "stream",
     "text": [
      "Enter your name:Raj\n",
      "Enter your age:15\n",
      "Enter your school name:Guru School\n",
      "Enter your degree: B.E CSE\n"
     ]
    }
   ],
   "source": [
    "nameofthestudent = input(\"Enter your name:\")\n",
    "age = int(input(\"Enter your age:\"))\n",
    "schoolname = input(\"Enter your school name:\")\n",
    "education = input(\"Enter your degree: \")"
   ]
  },
  {
   "cell_type": "code",
   "execution_count": 3,
   "id": "5c443527",
   "metadata": {},
   "outputs": [
    {
     "name": "stdout",
     "output_type": "stream",
     "text": [
      "a= 43 \n",
      "b= 34 \n",
      "add= 77\n"
     ]
    }
   ],
   "source": [
    "a=43\n",
    "b=34\n",
    "add = a+b\n",
    "print(\"a=\",a, \"\\n\" \"b=\",b, \"\\n\" \"add=\",add)"
   ]
  },
  {
   "cell_type": "code",
   "execution_count": 12,
   "id": "1fbfcfd2",
   "metadata": {},
   "outputs": [
    {
     "name": "stdout",
     "output_type": "stream",
     "text": [
      "a= 43 \n",
      "b= 34 \n",
      "sub= 9\n"
     ]
    }
   ],
   "source": [
    "a=43\n",
    "b=34\n",
    "sub = a-b\n",
    "print(\"a=\",a, \"\\n\" \"b=\",b, \"\\n\" \"sub=\",sub)"
   ]
  },
  {
   "cell_type": "code",
   "execution_count": 13,
   "id": "61bc0c81",
   "metadata": {},
   "outputs": [
    {
     "name": "stdout",
     "output_type": "stream",
     "text": [
      "a= 63 \n",
      "b= 97 \n",
      "mul= 6111\n"
     ]
    }
   ],
   "source": [
    "a=63\n",
    "b=97\n",
    "mul = a*b\n",
    "print(\"a=\",a, \"\\n\" \"b=\",b, \"\\n\" \"mul=\",mul)"
   ]
  },
  {
   "cell_type": "code",
   "execution_count": 14,
   "id": "78064d5c",
   "metadata": {},
   "outputs": [
    {
     "name": "stdout",
     "output_type": "stream",
     "text": [
      "a= 76 \n",
      "b= 31 \n",
      "div= 2.4516129032258065\n"
     ]
    }
   ],
   "source": [
    "a=76\n",
    "b=31\n",
    "div = a/b\n",
    "print(\"a=\",a, \"\\n\" \"b=\",b, \"\\n\" \"div=\",div)"
   ]
  },
  {
   "cell_type": "code",
   "execution_count": 15,
   "id": "1eabf53d",
   "metadata": {},
   "outputs": [
    {
     "name": "stdout",
     "output_type": "stream",
     "text": [
      "a= 76 \n",
      "b= 31 \n",
      "Floor Div= 2\n"
     ]
    }
   ],
   "source": [
    "a=76\n",
    "b=31\n",
    "fldiv = a//b\n",
    "print(\"a=\",a, \"\\n\" \"b=\",b, \"\\n\" \"Floor Div=\",fldiv)"
   ]
  },
  {
   "cell_type": "code",
   "execution_count": 16,
   "id": "6a659576",
   "metadata": {},
   "outputs": [
    {
     "name": "stdout",
     "output_type": "stream",
     "text": [
      "a= 76 \n",
      "b= 31 \n",
      "Modulo= 14\n"
     ]
    }
   ],
   "source": [
    "a=76\n",
    "b=31\n",
    "modulo = a%b\n",
    "print(\"a=\",a, \"\\n\" \"b=\",b, \"\\n\" \"Modulo=\",modulo)"
   ]
  },
  {
   "cell_type": "code",
   "execution_count": 17,
   "id": "aae616ed",
   "metadata": {},
   "outputs": [
    {
     "name": "stdout",
     "output_type": "stream",
     "text": [
      "a= 4 \n",
      "b= 4 \n",
      "Power= 256\n"
     ]
    }
   ],
   "source": [
    "a=4\n",
    "b=4\n",
    "power = a**b\n",
    "print(\"a=\",a, \"\\n\" \"b=\",b, \"\\n\" \"Power=\",power)"
   ]
  }
 ],
 "metadata": {
  "kernelspec": {
   "display_name": "Python 3 (ipykernel)",
   "language": "python",
   "name": "python3"
  },
  "language_info": {
   "codemirror_mode": {
    "name": "ipython",
    "version": 3
   },
   "file_extension": ".py",
   "mimetype": "text/x-python",
   "name": "python",
   "nbconvert_exporter": "python",
   "pygments_lexer": "ipython3",
   "version": "3.10.9"
  }
 },
 "nbformat": 4,
 "nbformat_minor": 5
}
