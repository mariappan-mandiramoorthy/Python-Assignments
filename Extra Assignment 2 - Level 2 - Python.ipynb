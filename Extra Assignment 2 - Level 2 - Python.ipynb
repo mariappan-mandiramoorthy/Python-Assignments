{
 "cells": [
  {
   "cell_type": "code",
   "execution_count": 7,
   "id": "89e1ff23",
   "metadata": {},
   "outputs": [
    {
     "name": "stdout",
     "output_type": "stream",
     "text": [
      "0\n",
      "1\n",
      "2\n",
      "3\n",
      "4\n",
      "5\n",
      "6\n",
      "7\n",
      "8\n",
      "9\n",
      "10\n",
      "11\n",
      "12\n",
      "13\n",
      "14\n",
      "15\n",
      "16\n",
      "17\n",
      "18\n",
      "19\n"
     ]
    }
   ],
   "source": [
    "for i in range(0,20):\n",
    "    print(i)"
   ]
  },
  {
   "cell_type": "code",
   "execution_count": 8,
   "id": "419ee0ec",
   "metadata": {},
   "outputs": [
    {
     "name": "stdout",
     "output_type": "stream",
     "text": [
      "10\n",
      "11\n",
      "12\n",
      "13\n",
      "14\n",
      "15\n",
      "16\n",
      "17\n",
      "18\n",
      "19\n"
     ]
    }
   ],
   "source": [
    "for i in range(10,20):\n",
    "    print(i)"
   ]
  },
  {
   "cell_type": "code",
   "execution_count": 15,
   "id": "66e8f0ef",
   "metadata": {},
   "outputs": [
    {
     "name": "stdout",
     "output_type": "stream",
     "text": [
      "[10, 20, 14, 55, 43, 87, 76] \n",
      " Number of items in the list: 7\n"
     ]
    }
   ],
   "source": [
    "lists = [10, 20, 14, 55, 43, 87, 76]\n",
    "print(lists,\"\\n\",\"Number of items in the list:\",len(lists))"
   ]
  },
  {
   "cell_type": "code",
   "execution_count": 17,
   "id": "e4acd860",
   "metadata": {},
   "outputs": [
    {
     "name": "stdout",
     "output_type": "stream",
     "text": [
      "A\n",
      "r\n",
      "t\n",
      "i\n",
      "f\n",
      "i\n",
      "c\n",
      "i\n",
      "a\n",
      "l\n",
      " \n",
      "i\n",
      "n\n",
      "t\n",
      "e\n",
      "l\n",
      "l\n",
      "i\n",
      "g\n",
      "e\n",
      "n\n",
      "c\n",
      "e\n"
     ]
    }
   ],
   "source": [
    "name = \"Artificial intelligence\"\n",
    "for n in name:\n",
    "    print(n)"
   ]
  },
  {
   "cell_type": "code",
   "execution_count": 2,
   "id": "0ecf5e61",
   "metadata": {},
   "outputs": [
    {
     "name": "stdout",
     "output_type": "stream",
     "text": [
      "Your name\n",
      " Your age\n",
      " Your profession\n"
     ]
    }
   ],
   "source": [
    "print(\"Your name\" \"\\n\", \"Your age\" \"\\n\", \"Your profession\")"
   ]
  },
  {
   "cell_type": "code",
   "execution_count": 7,
   "id": "e25d130b",
   "metadata": {},
   "outputs": [
    {
     "name": "stdout",
     "output_type": "stream",
     "text": [
      "(1, 'Welcome', 2, 'Hope')\n"
     ]
    }
   ],
   "source": [
    "Tuple = (1, \"Welcome\", 2, \"Hope\")\n",
    "print(Tuple)"
   ]
  },
  {
   "cell_type": "code",
   "execution_count": 6,
   "id": "a9f7a02f",
   "metadata": {},
   "outputs": [
    {
     "name": "stdout",
     "output_type": "stream",
     "text": [
      "(0, 1, 2, 3) ('Python', 'Hope')\n"
     ]
    }
   ],
   "source": [
    "Tuple1 = (0,1,2,3)\n",
    "Tuple2 = (\"Python\", \"Hope\")\n",
    "print(Tuple1, Tuple2)"
   ]
  },
  {
   "cell_type": "code",
   "execution_count": 12,
   "id": "6c8fd84d",
   "metadata": {},
   "outputs": [
    {
     "name": "stdout",
     "output_type": "stream",
     "text": [
      "19 is odd\n",
      "25 is odd\n",
      "1 is odd\n"
     ]
    }
   ],
   "source": [
    "numb = [20,10,16,19,25,1,276,188]\n",
    "for n in numb:\n",
    "    if(n%2!=0):\n",
    "        print(n,\"is odd\")\n",
    "  "
   ]
  },
  {
   "cell_type": "code",
   "execution_count": 13,
   "id": "e3229ee2",
   "metadata": {},
   "outputs": [
    {
     "name": "stdout",
     "output_type": "stream",
     "text": [
      "20 is even\n",
      "10 is even\n",
      "16 is even\n",
      "276 is even\n",
      "188 is even\n"
     ]
    }
   ],
   "source": [
    "numb = [20,10,16,19,25,1,276,188]\n",
    "for n in numb:\n",
    "    if(n%2==0):\n",
    "        print(n,\"is even\")"
   ]
  }
 ],
 "metadata": {
  "kernelspec": {
   "display_name": "Python 3 (ipykernel)",
   "language": "python",
   "name": "python3"
  },
  "language_info": {
   "codemirror_mode": {
    "name": "ipython",
    "version": 3
   },
   "file_extension": ".py",
   "mimetype": "text/x-python",
   "name": "python",
   "nbconvert_exporter": "python",
   "pygments_lexer": "ipython3",
   "version": "3.10.9"
  }
 },
 "nbformat": 4,
 "nbformat_minor": 5
}
