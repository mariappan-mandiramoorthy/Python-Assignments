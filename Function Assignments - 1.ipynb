{
 "cells": [
  {
   "cell_type": "code",
   "execution_count": 87,
   "id": "aa8bae83",
   "metadata": {},
   "outputs": [],
   "source": [
    "def Subfields():\n",
    "    print(\"Machine Learning\"\"\\n\",\"Neural Networks\"\"\\n\",\"Vision\"\"\\n\",\"Robotics\"\"\\n\",\"Speech Processing\"\"\\n\",\"Natural Language Processing\"\"\\n\")"
   ]
  },
  {
   "cell_type": "code",
   "execution_count": 88,
   "id": "8c1f7de7",
   "metadata": {},
   "outputs": [
    {
     "name": "stdout",
     "output_type": "stream",
     "text": [
      "The subfields in AI are\n",
      "Machine Learning\n",
      " Neural Networks\n",
      " Vision\n",
      " Robotics\n",
      " Speech Processing\n",
      " Natural Language Processing\n",
      "\n"
     ]
    }
   ],
   "source": [
    "print(\"The subfields in AI are:\")\n",
    "Subfields()"
   ]
  },
  {
   "cell_type": "code",
   "execution_count": 95,
   "id": "8ae59e3f",
   "metadata": {},
   "outputs": [],
   "source": [
    "def OddEven():\n",
    "    num = int(input(\"Enter a number:\"))\n",
    "    if(num%2!=0):\n",
    "        print(num,\"is odd number\")\n",
    "    else:\n",
    "        print(num,\"is even number\")"
   ]
  },
  {
   "cell_type": "code",
   "execution_count": 101,
   "id": "95569382",
   "metadata": {},
   "outputs": [
    {
     "name": "stdout",
     "output_type": "stream",
     "text": [
      "Enter a number:4\n",
      "4 is even number\n"
     ]
    }
   ],
   "source": [
    "OddEven()"
   ]
  },
  {
   "cell_type": "code",
   "execution_count": 123,
   "id": "85c556d9",
   "metadata": {},
   "outputs": [],
   "source": [
    "def Gender_Eligibility():\n",
    "    Gen = input(\"Your Gender: \")\n",
    "    Age = int(input(\"Your age: \"))\n",
    "    if(Gen==\"Male\"):\n",
    "        if(Age>=18):\n",
    "            print(\"Not Eligible\")\n",
    "        else:\n",
    "            print(\"Eligible\")"
   ]
  },
  {
   "cell_type": "code",
   "execution_count": 124,
   "id": "67309bb1",
   "metadata": {},
   "outputs": [
    {
     "name": "stdout",
     "output_type": "stream",
     "text": [
      "Your Gender: Male\n",
      "Your age: 18\n",
      "Not Eligible\n"
     ]
    }
   ],
   "source": [
    "Gender_Eligibility()"
   ]
  },
  {
   "cell_type": "code",
   "execution_count": 11,
   "id": "ef010655",
   "metadata": {},
   "outputs": [],
   "source": [
    "def percentage():\n",
    "    s1 = int(input(\"Subject1=\"))\n",
    "    s2 =  int(input(\"Subject2=\"))\n",
    "    s3 =  int(input(\"Subject3=\"))\n",
    "    s4 =  int(input(\"Subject4=\"))\n",
    "    s5 =  int(input(\"Subject5=\"))\n",
    "    total = s1+s2+s3+s4+s5\n",
    "    percent = total/5\n",
    "    print(\"Total :\",total,\"\\n\",\"Percentage :\",percent)"
   ]
  },
  {
   "cell_type": "code",
   "execution_count": 13,
   "id": "f50f28a9",
   "metadata": {},
   "outputs": [
    {
     "name": "stdout",
     "output_type": "stream",
     "text": [
      "Subject1=23\n",
      "Subject2=45\n",
      "Subject3=34\n",
      "Subject4=23\n",
      "Subject5=23\n",
      "Total : 148 \n",
      " Percentage : 29.6\n"
     ]
    }
   ],
   "source": [
    "percentage()"
   ]
  },
  {
   "cell_type": "code",
   "execution_count": 20,
   "id": "8e153648",
   "metadata": {},
   "outputs": [],
   "source": [
    "def triangle():\n",
    "    Height = int(input(\"Height: \"))\n",
    "    Breadth = int(input(\"Breadth: \"))\n",
    "    Area_Formula = (Height * Breadth)/2\n",
    "    print(\"Area of a triangle: \", Area_Formula)"
   ]
  },
  {
   "cell_type": "code",
   "execution_count": 21,
   "id": "5f601d20",
   "metadata": {},
   "outputs": [
    {
     "name": "stdout",
     "output_type": "stream",
     "text": [
      "Height: 3\n",
      "Breadth: 4\n",
      "Area of a triangle:  6.0\n"
     ]
    }
   ],
   "source": [
    "triangle()"
   ]
  },
  {
   "cell_type": "code",
   "execution_count": 22,
   "id": "53c21aac",
   "metadata": {},
   "outputs": [],
   "source": [
    "def perimeter():\n",
    "    Height_1 = int(input(\"Height 1: \"))\n",
    "    Height_2 = int(input(\"Height 2: \"))\n",
    "    Breadth = int(input(\"Breadth: \"))\n",
    "    Perimeter_Formula = Height_1+Height_2+Breadth\n",
    "    print(\"Perimeter of a triangle:\", Perimeter_Formula)"
   ]
  },
  {
   "cell_type": "code",
   "execution_count": 23,
   "id": "c347af63",
   "metadata": {},
   "outputs": [
    {
     "name": "stdout",
     "output_type": "stream",
     "text": [
      "Height 1: 3\n",
      "Height 2: 4\n",
      "Breadth: 45\n",
      "Perimeter of a triangle: 52\n"
     ]
    }
   ],
   "source": [
    "perimeter()"
   ]
  }
 ],
 "metadata": {
  "kernelspec": {
   "display_name": "Python 3 (ipykernel)",
   "language": "python",
   "name": "python3"
  },
  "language_info": {
   "codemirror_mode": {
    "name": "ipython",
    "version": 3
   },
   "file_extension": ".py",
   "mimetype": "text/x-python",
   "name": "python",
   "nbconvert_exporter": "python",
   "pygments_lexer": "ipython3",
   "version": "3.10.9"
  }
 },
 "nbformat": 4,
 "nbformat_minor": 5
}
